{
 "cells": [
  {
   "cell_type": "code",
   "execution_count": 38,
   "metadata": {},
   "outputs": [],
   "source": [
    "import webbrowser\n",
    "import os\n",
    "import shutil\n",
    "import requests\n",
    "import re\n",
    "new = 2\n",
    "\n",
    "\n",
    "#open an HTML file on my own (Windows) computer\n",
    "def open_html(relpath):\n",
    "    url = 'file:///Users/aleks/Documents/study/phd/deeptechNikolaev/sketchfabAutoDownload/' + relpath\n",
    "    # webbrowser.open(url)\n",
    "    webbrowser.open(url,new=new)"
   ]
  },
  {
   "cell_type": "markdown",
   "metadata": {},
   "source": [
    "# Fetching model uids"
   ]
  },
  {
   "cell_type": "code",
   "execution_count": 30,
   "metadata": {},
   "outputs": [],
   "source": [
    "collection_id = '41f58a2863d9493b9ef9b3ffc95954eb'\n",
    "\n",
    "response = requests.get('https://api.sketchfab.com/v3/collections/'+collection_id+'/models')\n",
    "assert response.status_code==200\n",
    "# res = response.json()['results'][0]\n",
    "uids_collection = []\n",
    "for res in response.json()['results']:\n",
    "    uids_collection.append(res['uid'])\n",
    "uids_collection\n",
    "n_models = 1"
   ]
  },
  {
   "cell_type": "markdown",
   "metadata": {},
   "source": [
    "# Preparing `iframe`s for `index.html`"
   ]
  },
  {
   "cell_type": "code",
   "execution_count": 31,
   "metadata": {},
   "outputs": [],
   "source": [
    "with open('index_empty.html') as f:\n",
    "    data = f.readlines()"
   ]
  },
  {
   "cell_type": "code",
   "execution_count": 32,
   "metadata": {},
   "outputs": [],
   "source": [
    "template = [\n",
    "'            <div class=\"row \">\\n',\n",
    "'                <div class=\"d-flex flex-column col-md-8 mb-3\">\\n',\n",
    "'                    <iframe id=\"api-frame\" width=\"auto\" height=\"auto\" allowfullscreen=\"true\" mozallowfullscreen=\"true\"\\n',\n",
    "'                        webkitallowfullscreen=\"true\"\\n',\n",
    "'                        class=\"mb-3 rounded shadow-lg embed-responsive embed-responsive-4by3 border border-info\"\\n',\n",
    "'                        loading=\"lazy\"></iframe>\\n',\n",
    "'                </div>\\n',\n",
    "'            </div>\\n'\n",
    "]\n",
    "def add_after_subs(string, substring, i):\n",
    "    s_pos = string.find(substring)\n",
    "    e_pos = s_pos + len(substring)\n",
    "    string = string[:e_pos] + str(i) + string[e_pos:]\n",
    "    return string\n",
    "def alter_template(i):\n",
    "    if i == 0:\n",
    "        return template\n",
    "    \n",
    "    template_i = template.copy()\n",
    "    # <div class=\"row \">\n",
    "    template_i[0]=add_after_subs(template_i[0], 'row', i)\n",
    "    # <iframe id=\"api-frame1\" ...\n",
    "    template_i[2]=add_after_subs(template_i[2], 'api-frame', i)\n",
    "    return template_i"
   ]
  },
  {
   "cell_type": "code",
   "execution_count": 33,
   "metadata": {},
   "outputs": [],
   "source": [
    "iframes_html = []\n",
    "for i, uid in enumerate(uids_collection[-n_models:]):\n",
    "    iframes_html += alter_template(i)"
   ]
  },
  {
   "cell_type": "code",
   "execution_count": 34,
   "metadata": {},
   "outputs": [],
   "source": [
    "tmp=data[:14] + iframes_html + data[14:]"
   ]
  },
  {
   "cell_type": "code",
   "execution_count": 35,
   "metadata": {},
   "outputs": [],
   "source": [
    "with open('index_tst.html', 'w') as the_file:\n",
    "    for l in tmp:\n",
    "        the_file.write(l)"
   ]
  },
  {
   "cell_type": "code",
   "execution_count": 36,
   "metadata": {},
   "outputs": [],
   "source": [
    "js_file_path = 'init_model.js'\n",
    "with open(js_file_path, 'r') as file:\n",
    "    # read a list of lines into data\n",
    "    data = file.readlines()\n",
    "#find uids row\n",
    "uids_row_idx = -1\n",
    "for i, l in enumerate(data):\n",
    "    if 'var uids = ' in l:\n",
    "        uids_row_idx = i\n",
    "        break\n",
    "assert uids_row_idx > 0\n",
    "#alter it\n",
    "data[uids_row_idx] = 'var uids = ' + str(uids_collection[-n_models:]) + ';\\n'\n",
    "\n",
    "with open('init_model.js', 'w') as file:\n",
    "    file.writelines(data)"
   ]
  },
  {
   "cell_type": "markdown",
   "metadata": {},
   "source": [
    "# Bonus: gifs"
   ]
  },
  {
   "cell_type": "code",
   "execution_count": 51,
   "metadata": {},
   "outputs": [
    {
     "ename": "ValueError",
     "evalue": "invalid literal for int() with base 10: '/Users/aleks/Downloads/model_7e8a61dd67b341e987e88299af27fe57_tst'",
     "output_type": "error",
     "traceback": [
      "\u001b[0;31m---------------------------------------------------------------------------\u001b[0m",
      "\u001b[0;31mValueError\u001b[0m                                Traceback (most recent call last)",
      "Cell \u001b[0;32mIn[51], line 4\u001b[0m\n\u001b[1;32m      2\u001b[0m p \u001b[38;5;241m=\u001b[39m re\u001b[38;5;241m.\u001b[39mcompile(\u001b[38;5;124m'\u001b[39m\u001b[38;5;124m.*tst.*\u001b[39m\u001b[38;5;124m'\u001b[39m)\n\u001b[1;32m      3\u001b[0m filenames \u001b[38;5;241m=\u001b[39m [os\u001b[38;5;241m.\u001b[39mpath\u001b[38;5;241m.\u001b[39mjoin(\u001b[38;5;124m'\u001b[39m\u001b[38;5;124m/Users/aleks/Downloads/\u001b[39m\u001b[38;5;124m'\u001b[39m,s) \u001b[38;5;28;01mfor\u001b[39;00m s \u001b[38;5;129;01min\u001b[39;00m os\u001b[38;5;241m.\u001b[39mlistdir(\u001b[38;5;124m'\u001b[39m\u001b[38;5;124m/Users/aleks/Downloads/\u001b[39m\u001b[38;5;124m'\u001b[39m) \u001b[38;5;28;01mif\u001b[39;00m p\u001b[38;5;241m.\u001b[39mmatch(s)]\n\u001b[0;32m----> 4\u001b[0m \u001b[43mfilenames\u001b[49m\u001b[38;5;241;43m.\u001b[39;49m\u001b[43msort\u001b[49m\u001b[43m(\u001b[49m\u001b[43mkey\u001b[49m\u001b[38;5;241;43m=\u001b[39;49m\u001b[38;5;28;43;01mlambda\u001b[39;49;00m\u001b[43m \u001b[49m\u001b[43mx\u001b[49m\u001b[43m:\u001b[49m\u001b[43m \u001b[49m\u001b[38;5;28;43mint\u001b[39;49m\u001b[43m(\u001b[49m\u001b[43mx\u001b[49m\u001b[38;5;241;43m.\u001b[39;49m\u001b[43msplit\u001b[49m\u001b[43m(\u001b[49m\u001b[38;5;124;43m'\u001b[39;49m\u001b[38;5;124;43m-\u001b[39;49m\u001b[38;5;124;43m'\u001b[39;49m\u001b[43m)\u001b[49m\u001b[43m[\u001b[49m\u001b[38;5;241;43m-\u001b[39;49m\u001b[38;5;241;43m1\u001b[39;49m\u001b[43m]\u001b[49m\u001b[38;5;241;43m.\u001b[39;49m\u001b[43msplit\u001b[49m\u001b[43m(\u001b[49m\u001b[38;5;124;43m'\u001b[39;49m\u001b[38;5;124;43m.\u001b[39;49m\u001b[38;5;124;43m'\u001b[39;49m\u001b[43m)\u001b[49m\u001b[43m[\u001b[49m\u001b[38;5;241;43m0\u001b[39;49m\u001b[43m]\u001b[49m\u001b[43m)\u001b[49m\u001b[43m)\u001b[49m\n",
      "Cell \u001b[0;32mIn[51], line 4\u001b[0m, in \u001b[0;36m<lambda>\u001b[0;34m(x)\u001b[0m\n\u001b[1;32m      2\u001b[0m p \u001b[38;5;241m=\u001b[39m re\u001b[38;5;241m.\u001b[39mcompile(\u001b[38;5;124m'\u001b[39m\u001b[38;5;124m.*tst.*\u001b[39m\u001b[38;5;124m'\u001b[39m)\n\u001b[1;32m      3\u001b[0m filenames \u001b[38;5;241m=\u001b[39m [os\u001b[38;5;241m.\u001b[39mpath\u001b[38;5;241m.\u001b[39mjoin(\u001b[38;5;124m'\u001b[39m\u001b[38;5;124m/Users/aleks/Downloads/\u001b[39m\u001b[38;5;124m'\u001b[39m,s) \u001b[38;5;28;01mfor\u001b[39;00m s \u001b[38;5;129;01min\u001b[39;00m os\u001b[38;5;241m.\u001b[39mlistdir(\u001b[38;5;124m'\u001b[39m\u001b[38;5;124m/Users/aleks/Downloads/\u001b[39m\u001b[38;5;124m'\u001b[39m) \u001b[38;5;28;01mif\u001b[39;00m p\u001b[38;5;241m.\u001b[39mmatch(s)]\n\u001b[0;32m----> 4\u001b[0m filenames\u001b[38;5;241m.\u001b[39msort(key\u001b[38;5;241m=\u001b[39m\u001b[38;5;28;01mlambda\u001b[39;00m x: \u001b[38;5;28;43mint\u001b[39;49m\u001b[43m(\u001b[49m\u001b[43mx\u001b[49m\u001b[38;5;241;43m.\u001b[39;49m\u001b[43msplit\u001b[49m\u001b[43m(\u001b[49m\u001b[38;5;124;43m'\u001b[39;49m\u001b[38;5;124;43m-\u001b[39;49m\u001b[38;5;124;43m'\u001b[39;49m\u001b[43m)\u001b[49m\u001b[43m[\u001b[49m\u001b[38;5;241;43m-\u001b[39;49m\u001b[38;5;241;43m1\u001b[39;49m\u001b[43m]\u001b[49m\u001b[38;5;241;43m.\u001b[39;49m\u001b[43msplit\u001b[49m\u001b[43m(\u001b[49m\u001b[38;5;124;43m'\u001b[39;49m\u001b[38;5;124;43m.\u001b[39;49m\u001b[38;5;124;43m'\u001b[39;49m\u001b[43m)\u001b[49m\u001b[43m[\u001b[49m\u001b[38;5;241;43m0\u001b[39;49m\u001b[43m]\u001b[49m\u001b[43m)\u001b[49m)\n",
      "\u001b[0;31mValueError\u001b[0m: invalid literal for int() with base 10: '/Users/aleks/Downloads/model_7e8a61dd67b341e987e88299af27fe57_tst'"
     ]
    }
   ],
   "source": [
    "# filenames = \n",
    "p = re.compile('.*tst.*')\n",
    "filenames = [os.path.join('/Users/aleks/Downloads/',s) for s in os.listdir('/Users/aleks/Downloads/') if p.match(s)]\n",
    "def key(x):\n",
    "    try: \n",
    "        return int(x.split('-')[-1].split('.')[0])\n",
    "    except ValueError:\n",
    "        return 0\n",
    "filenames.sort(key=lambda x: )"
   ]
  },
  {
   "cell_type": "code",
   "execution_count": 50,
   "metadata": {},
   "outputs": [
    {
     "data": {
      "text/plain": [
       "['/Users/aleks/Downloads/model_7e8a61dd67b341e987e88299af27fe57_tst-10.jpg',\n",
       " '/Users/aleks/Downloads/model_7e8a61dd67b341e987e88299af27fe57_tst-11.jpg',\n",
       " '/Users/aleks/Downloads/model_7e8a61dd67b341e987e88299af27fe57_tst-12.jpg',\n",
       " '/Users/aleks/Downloads/model_7e8a61dd67b341e987e88299af27fe57_tst-13.jpg',\n",
       " '/Users/aleks/Downloads/model_7e8a61dd67b341e987e88299af27fe57_tst-14.jpg',\n",
       " '/Users/aleks/Downloads/model_7e8a61dd67b341e987e88299af27fe57_tst-15.jpg',\n",
       " '/Users/aleks/Downloads/model_7e8a61dd67b341e987e88299af27fe57_tst-16.jpg',\n",
       " '/Users/aleks/Downloads/model_7e8a61dd67b341e987e88299af27fe57_tst-17.jpg',\n",
       " '/Users/aleks/Downloads/model_7e8a61dd67b341e987e88299af27fe57_tst-18.jpg',\n",
       " '/Users/aleks/Downloads/model_7e8a61dd67b341e987e88299af27fe57_tst-19.jpg',\n",
       " '/Users/aleks/Downloads/model_7e8a61dd67b341e987e88299af27fe57_tst-2.jpg',\n",
       " '/Users/aleks/Downloads/model_7e8a61dd67b341e987e88299af27fe57_tst-20.jpg',\n",
       " '/Users/aleks/Downloads/model_7e8a61dd67b341e987e88299af27fe57_tst-21.jpg',\n",
       " '/Users/aleks/Downloads/model_7e8a61dd67b341e987e88299af27fe57_tst-22.jpg',\n",
       " '/Users/aleks/Downloads/model_7e8a61dd67b341e987e88299af27fe57_tst-23.jpg',\n",
       " '/Users/aleks/Downloads/model_7e8a61dd67b341e987e88299af27fe57_tst-24.jpg',\n",
       " '/Users/aleks/Downloads/model_7e8a61dd67b341e987e88299af27fe57_tst-25.jpg',\n",
       " '/Users/aleks/Downloads/model_7e8a61dd67b341e987e88299af27fe57_tst-26.jpg',\n",
       " '/Users/aleks/Downloads/model_7e8a61dd67b341e987e88299af27fe57_tst-27.jpg',\n",
       " '/Users/aleks/Downloads/model_7e8a61dd67b341e987e88299af27fe57_tst-28.jpg',\n",
       " '/Users/aleks/Downloads/model_7e8a61dd67b341e987e88299af27fe57_tst-29.jpg',\n",
       " '/Users/aleks/Downloads/model_7e8a61dd67b341e987e88299af27fe57_tst-3.jpg',\n",
       " '/Users/aleks/Downloads/model_7e8a61dd67b341e987e88299af27fe57_tst-30.jpg',\n",
       " '/Users/aleks/Downloads/model_7e8a61dd67b341e987e88299af27fe57_tst-31.jpg',\n",
       " '/Users/aleks/Downloads/model_7e8a61dd67b341e987e88299af27fe57_tst-32.jpg',\n",
       " '/Users/aleks/Downloads/model_7e8a61dd67b341e987e88299af27fe57_tst-33.jpg',\n",
       " '/Users/aleks/Downloads/model_7e8a61dd67b341e987e88299af27fe57_tst-34.jpg',\n",
       " '/Users/aleks/Downloads/model_7e8a61dd67b341e987e88299af27fe57_tst-35.jpg',\n",
       " '/Users/aleks/Downloads/model_7e8a61dd67b341e987e88299af27fe57_tst-4.jpg',\n",
       " '/Users/aleks/Downloads/model_7e8a61dd67b341e987e88299af27fe57_tst-5.jpg',\n",
       " '/Users/aleks/Downloads/model_7e8a61dd67b341e987e88299af27fe57_tst-6.jpg',\n",
       " '/Users/aleks/Downloads/model_7e8a61dd67b341e987e88299af27fe57_tst-7.jpg',\n",
       " '/Users/aleks/Downloads/model_7e8a61dd67b341e987e88299af27fe57_tst-8.jpg',\n",
       " '/Users/aleks/Downloads/model_7e8a61dd67b341e987e88299af27fe57_tst-9.jpg',\n",
       " '/Users/aleks/Downloads/model_7e8a61dd67b341e987e88299af27fe57_tst.jpg']"
      ]
     },
     "execution_count": 50,
     "metadata": {},
     "output_type": "execute_result"
    }
   ],
   "source": [
    "filenames"
   ]
  },
  {
   "cell_type": "code",
   "execution_count": 49,
   "metadata": {},
   "outputs": [
    {
     "name": "stderr",
     "output_type": "stream",
     "text": [
      "/var/folders/x3/2q_gzsqs643dbh4q2k13s0z80000gn/T/ipykernel_2585/778663958.py:4: DeprecationWarning: Starting with ImageIO v3 the behavior of this function will switch to that of iio.v3.imread. To keep the current behavior (and make this warning dissapear) use `import imageio.v2 as imageio` or call `imageio.v2.imread` directly.\n",
      "  image = imageio.imread(filename)\n"
     ]
    }
   ],
   "source": [
    "import imageio\n",
    "with imageio.get_writer('/Users/aleks/Downloads/movie.gif', mode='I') as writer:\n",
    "    for filename in filenames:\n",
    "        image = imageio.imread(filename)\n",
    "        writer.append_data(image)"
   ]
  }
 ],
 "metadata": {
  "interpreter": {
   "hash": "5d928237803e95b62a2ee2dcc5cf3e8058fb532f6ec254545cf58878bdab3824"
  },
  "kernelspec": {
   "display_name": "Python 3.10.4 ('apisketch')",
   "language": "python",
   "name": "python3"
  },
  "language_info": {
   "codemirror_mode": {
    "name": "ipython",
    "version": 3
   },
   "file_extension": ".py",
   "mimetype": "text/x-python",
   "name": "python",
   "nbconvert_exporter": "python",
   "pygments_lexer": "ipython3",
   "version": "3.10.4"
  },
  "orig_nbformat": 4
 },
 "nbformat": 4,
 "nbformat_minor": 2
}
