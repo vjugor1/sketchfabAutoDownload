{
 "cells": [
  {
   "cell_type": "code",
   "execution_count": 1,
   "metadata": {},
   "outputs": [],
   "source": [
    "import webbrowser\n",
    "import os\n",
    "import shutil\n",
    "import requests\n",
    "import re\n",
    "new = 2\n",
    "\n",
    "\n",
    "#open an HTML file on my own (Windows) computer\n",
    "def open_html(relpath):\n",
    "    url = 'file:///Users/aleks/Documents/study/phd/deeptechNikolaev/sketchfabAutoDownload/' + relpath\n",
    "    # webbrowser.open(url)\n",
    "    webbrowser.open(url,new=new)"
   ]
  },
  {
   "cell_type": "markdown",
   "metadata": {},
   "source": [
    "# Fetching model uids"
   ]
  },
  {
   "cell_type": "code",
   "execution_count": 9,
   "metadata": {},
   "outputs": [],
   "source": [
    "collection_id = '41f58a2863d9493b9ef9b3ffc95954eb'\n",
    "\n",
    "response = requests.get('https://api.sketchfab.com/v3/collections/'+collection_id+'/models')\n",
    "assert response.status_code==200\n",
    "# res = response.json()['results'][0]\n",
    "uids_collection = []\n",
    "for res in response.json()['results']:\n",
    "    uids_collection.append(res['uid'])\n",
    "uids_collection\n",
    "n_models = 2"
   ]
  },
  {
   "cell_type": "markdown",
   "metadata": {},
   "source": [
    "# Preparing `iframe`s for `index.html`"
   ]
  },
  {
   "cell_type": "code",
   "execution_count": 10,
   "metadata": {},
   "outputs": [],
   "source": [
    "with open('index_empty.html') as f:\n",
    "    data = f.readlines()"
   ]
  },
  {
   "cell_type": "code",
   "execution_count": 11,
   "metadata": {},
   "outputs": [],
   "source": [
    "template = [\n",
    "'            <div class=\"row \">\\n',\n",
    "'                <div class=\"d-flex flex-column col-md-8 mb-3\">\\n',\n",
    "'                    <iframe id=\"api-frame\" width=\"auto\" height=\"auto\" allowfullscreen=\"true\" mozallowfullscreen=\"true\"\\n',\n",
    "'                        webkitallowfullscreen=\"true\"\\n',\n",
    "'                        class=\"mb-3 rounded shadow-lg embed-responsive embed-responsive-4by3 border border-info\"\\n',\n",
    "'                        loading=\"lazy\"></iframe>\\n',\n",
    "'                </div>\\n',\n",
    "'            </div>\\n'\n",
    "]\n",
    "def add_after_subs(string, substring, i):\n",
    "    s_pos = string.find(substring)\n",
    "    e_pos = s_pos + len(substring)\n",
    "    string = string[:e_pos] + str(i) + string[e_pos:]\n",
    "    return string\n",
    "def alter_template(i):\n",
    "    if i == 0:\n",
    "        return template\n",
    "    \n",
    "    template_i = template.copy()\n",
    "    # <div class=\"row \">\n",
    "    template_i[0]=add_after_subs(template_i[0], 'row', i)\n",
    "    # <iframe id=\"api-frame1\" ...\n",
    "    template_i[2]=add_after_subs(template_i[2], 'api-frame', i)\n",
    "    return template_i"
   ]
  },
  {
   "cell_type": "code",
   "execution_count": 12,
   "metadata": {},
   "outputs": [],
   "source": [
    "iframes_html = []\n",
    "for i, uid in enumerate(uids_collection[-n_models:]):\n",
    "    iframes_html += alter_template(i)"
   ]
  },
  {
   "cell_type": "code",
   "execution_count": 13,
   "metadata": {},
   "outputs": [],
   "source": [
    "tmp=data[:14] + iframes_html + data[14:]"
   ]
  },
  {
   "cell_type": "code",
   "execution_count": 14,
   "metadata": {},
   "outputs": [],
   "source": [
    "with open('index_tst.html', 'w') as the_file:\n",
    "    for l in tmp:\n",
    "        the_file.write(l)"
   ]
  },
  {
   "cell_type": "code",
   "execution_count": 15,
   "metadata": {},
   "outputs": [],
   "source": [
    "js_file_path = 'init_model.js'\n",
    "with open(js_file_path, 'r') as file:\n",
    "    # read a list of lines into data\n",
    "    data = file.readlines()\n",
    "#find uids row\n",
    "uids_row_idx = -1\n",
    "for i, l in enumerate(data):\n",
    "    if 'var uids = ' in l:\n",
    "        uids_row_idx = i\n",
    "        break\n",
    "assert uids_row_idx > 0\n",
    "#alter it\n",
    "data[uids_row_idx] = 'var uids = ' + str(uids_collection[-n_models:]) + ';\\n'\n",
    "\n",
    "with open('init_model.js', 'w') as file:\n",
    "    file.writelines(data)"
   ]
  },
  {
   "cell_type": "markdown",
   "metadata": {},
   "source": [
    "# Bonus: gifs"
   ]
  },
  {
   "cell_type": "code",
   "execution_count": 22,
   "metadata": {},
   "outputs": [],
   "source": [
    "# filenames = \n",
    "p = re.compile('.*tst.*')\n",
    "filenames = [os.path.join('/Users/aleks/Downloads/',s) for s in os.listdir('/Users/aleks/Downloads/') if p.match(s)]\n",
    "def key_foo(x):\n",
    "    try: \n",
    "        return int(x.split('-')[-1].split('.')[0])\n",
    "    except ValueError:\n",
    "        return 0\n",
    "filenames.sort(key=key_foo)"
   ]
  },
  {
   "cell_type": "code",
   "execution_count": 23,
   "metadata": {},
   "outputs": [
    {
     "name": "stderr",
     "output_type": "stream",
     "text": [
      "/var/folders/x3/2q_gzsqs643dbh4q2k13s0z80000gn/T/ipykernel_1770/778663958.py:4: DeprecationWarning: Starting with ImageIO v3 the behavior of this function will switch to that of iio.v3.imread. To keep the current behavior (and make this warning dissapear) use `import imageio.v2 as imageio` or call `imageio.v2.imread` directly.\n",
      "  image = imageio.imread(filename)\n"
     ]
    }
   ],
   "source": [
    "import imageio\n",
    "with imageio.get_writer('/Users/aleks/Downloads/movie.gif', mode='I') as writer:\n",
    "    for filename in filenames:\n",
    "        image = imageio.imread(filename)\n",
    "        writer.append_data(image)"
   ]
  },
  {
   "cell_type": "code",
   "execution_count": null,
   "metadata": {},
   "outputs": [],
   "source": []
  }
 ],
 "metadata": {
  "interpreter": {
   "hash": "5d928237803e95b62a2ee2dcc5cf3e8058fb532f6ec254545cf58878bdab3824"
  },
  "kernelspec": {
   "display_name": "Python 3.10.4 ('apisketch')",
   "language": "python",
   "name": "python3"
  },
  "language_info": {
   "codemirror_mode": {
    "name": "ipython",
    "version": 3
   },
   "file_extension": ".py",
   "mimetype": "text/x-python",
   "name": "python",
   "nbconvert_exporter": "python",
   "pygments_lexer": "ipython3",
   "version": "3.10.4"
  },
  "orig_nbformat": 4
 },
 "nbformat": 4,
 "nbformat_minor": 2
}
